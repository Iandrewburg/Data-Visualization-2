{
 "cells": [
  {
   "cell_type": "markdown",
   "id": "8350c991-bdab-4ce8-85f3-3b6a19bb1a4d",
   "metadata": {},
   "source": [
    "# DASH"
   ]
  },
  {
   "cell_type": "code",
   "execution_count": 5,
   "id": "df8a88cb-e335-4d61-bd40-4fb5e6c3af13",
   "metadata": {},
   "outputs": [
    {
     "data": {
      "text/html": [
       "\n",
       "        <iframe\n",
       "            width=\"100%\"\n",
       "            height=\"650\"\n",
       "            src=\"http://127.0.0.1:8050/\"\n",
       "            frameborder=\"0\"\n",
       "            allowfullscreen\n",
       "            \n",
       "        ></iframe>\n",
       "        "
      ],
      "text/plain": [
       "<IPython.lib.display.IFrame at 0x27638e29c10>"
      ]
     },
     "metadata": {},
     "output_type": "display_data"
    }
   ],
   "source": [
    "from dash import Dash, html\n",
    "\n",
    "app = Dash(__name__)\n",
    "\n",
    "app.layout = html.Div('Hello World')\n",
    "\n",
    "app.run(debug=True)"
   ]
  },
  {
   "cell_type": "code",
   "execution_count": 6,
   "id": "4d8303b6-0e55-4a3d-922f-84ccff90bd3c",
   "metadata": {
    "tags": []
   },
   "outputs": [
    {
     "data": {
      "text/plain": [
       "Div(children=[Div(children='Example Div', style={'color': 'blue', 'fontSize': 14}), P(children='Example P', id='my-p-element', className='my-class')], style={'marginBottom': 50, 'marginTop': 25})"
      ]
     },
     "execution_count": 6,
     "metadata": {},
     "output_type": "execute_result"
    }
   ],
   "source": [
    "html.Div([\n",
    "    html.Div('Example Div', style={'color':'blue', 'fontSize':14}),\n",
    "    html.P('Example P', className='my-class', id='my-p-element')\n",
    "], style={'marginBottom':50, 'marginTop':25})"
   ]
  },
  {
   "cell_type": "code",
   "execution_count": 8,
   "id": "8f3d1127-bf76-432a-bb57-dd123249d1de",
   "metadata": {
    "tags": []
   },
   "outputs": [
    {
     "data": {
      "text/html": [
       "\n",
       "        <iframe\n",
       "            width=\"100%\"\n",
       "            height=\"650\"\n",
       "            src=\"http://127.0.0.1:8050/\"\n",
       "            frameborder=\"0\"\n",
       "            allowfullscreen\n",
       "            \n",
       "        ></iframe>\n",
       "        "
      ],
      "text/plain": [
       "<IPython.lib.display.IFrame at 0x2763f1d07d0>"
      ]
     },
     "metadata": {},
     "output_type": "display_data"
    }
   ],
   "source": [
    "from dash import Dash, html, dcc\n",
    "import pandas as pd\n",
    "import plotly.express as px\n",
    "\n",
    "df = pd.read_csv('https://raw.githubusercontent.com/plotly/datasets/master/gapminder2007.csv')\n",
    "fig1 = px.histogram(df, x='continent', y = 'lifeExp', histfunc='avg')\n",
    "\n",
    "app = Dash(__name__)\n",
    "\n",
    "app.layout = html.Div( [\n",
    "    html.H1('My First App with a Graph'),\n",
    "    dcc.Graph(figure=fig1)\n",
    "])\n",
    "\n",
    "app.run(debug=True)\n"
   ]
  },
  {
   "cell_type": "code",
   "execution_count": null,
   "id": "203e9dd9-d167-44a4-ab86-e882253ca90a",
   "metadata": {},
   "outputs": [],
   "source": []
  }
 ],
 "metadata": {
  "kernelspec": {
   "display_name": "Python 3 (ipykernel)",
   "language": "python",
   "name": "python3"
  },
  "language_info": {
   "codemirror_mode": {
    "name": "ipython",
    "version": 3
   },
   "file_extension": ".py",
   "mimetype": "text/x-python",
   "name": "python",
   "nbconvert_exporter": "python",
   "pygments_lexer": "ipython3",
   "version": "3.11.4"
  }
 },
 "nbformat": 4,
 "nbformat_minor": 5
}
